{
 "cells": [
  {
   "cell_type": "markdown",
   "id": "e6547b6f",
   "metadata": {},
   "source": [
    "#### Import Necessary Libraries"
   ]
  },
  {
   "cell_type": "code",
   "execution_count": 1,
   "id": "a4c878f6",
   "metadata": {},
   "outputs": [],
   "source": [
    "import os \n",
    "import gcsfs\n",
    "import numpy as np\n",
    "import pandas as pd\n",
    "from sklearn import metrics\n",
    "import matplotlib.pyplot as plt\n",
    "from xgboost import XGBClassifier\n",
    "from sklearn.preprocessing import LabelEncoder\n",
    "from sklearn.model_selection import train_test_split"
   ]
  },
  {
   "cell_type": "markdown",
   "id": "07e1fdbd",
   "metadata": {},
   "source": [
    "#### Create Class for model training\n"
   ]
  },
  {
   "cell_type": "code",
   "execution_count": 2,
   "id": "5820c8ce",
   "metadata": {},
   "outputs": [],
   "source": [
    "class PetFinderClassifier:\n",
    "    \n",
    "    def __init__(self):\n",
    "        \"\"\"init constructor\"\"\"\n",
    "        self.data = None\n",
    "        self.features = None\n",
    "        self.labels = None\n",
    "\n",
    "        \n",
    "    def load_data(self, path):\n",
    "        \"\"\"data loader method\"\"\"\n",
    "        fs = gcsfs.GCSFileSystem(project='XGBoost_Classifier')\n",
    "\n",
    "        with fs.open(path) as f:\n",
    "            self.data = pd.read_csv(f)\n",
    "            \n",
    "            # Split Data into Training Features and Label\n",
    "            self.features = self.data.iloc[:, :-1]\n",
    "            self.labels = self.data.iloc[:, -1]\n",
    "            \n",
    "            # Convert training features from sting to category\n",
    "            self.features = self.features.astype(\"category\")\n",
    "\n",
    "            # Encode Label column from string to integers\n",
    "            label_encoder = LabelEncoder()\n",
    "            label_encoder = label_encoder.fit(self.labels)\n",
    "            self.labels = label_encoder.transform(self.labels)\n",
    "        \n",
    "        return self.data, self.features, self.labels\n",
    "        \n",
    "        \n",
    "    def check_for_null(self):\n",
    "        \"\"\"check data for null values\"\"\"\n",
    "        null_data = self.data.isna().sum()\n",
    "        print(\"|-----------------------------------------|\")\n",
    "        print(\"There are {} numbers of null columns\".format\n",
    "                    (len(null_data) - self.data.shape[1]))\n",
    "        print(\"|-----------------------------------------|\")\n",
    "\n",
    "     \n",
    "    def split_data(self):\n",
    "        \"\"\"Split data into Train, Test & Val set (60-20-20)\"\"\"\n",
    "        self.X_train, self.X_rem, self.y_train, self.y_rem = \\\n",
    "                train_test_split(self.features, self.labels, train_size=0.6)\n",
    "        \n",
    "        self.X_valid, self.X_test, self.y_valid, self.y_test = \\\n",
    "                train_test_split(self.X_rem, self.y_rem, test_size=0.5)\n",
    "        print()\n",
    "        print(\"|-----------------------------------------|\")\n",
    "        print('Shape of Train Data:', self.X_train.shape)  \n",
    "        print('Shape of Train Label:', self.y_train.shape)\n",
    "        print()\n",
    "\n",
    "        print('Shape of Test Data:', self.X_test.shape)  \n",
    "        print('Shape of Test Label:', self.y_test.shape)  \n",
    "        print()\n",
    "\n",
    "        print('Shape of Train Data:', self.X_valid.shape)  \n",
    "        print('Shape of Train Data:', self.y_valid.shape)  \n",
    "        print(\"|-----------------------------------------|\")\n",
    "\n",
    "        return self.X_train, self.y_train, self.X_valid, self.y_valid, self.X_test, self.y_test\n",
    "        \n",
    "           \n",
    "     \n",
    "    def train_model(self):\n",
    "        \"\"\"Train Model Using XGBoost Classifier\"\"\"\n",
    "        eval_set = [(self.X_train, self.y_train), (self.X_valid, self.y_valid)]\n",
    "\n",
    "        self.model = XGBClassifier(tree_method=\"gpu_hist\", enable_categorical=True, use_label_encoder=False)\n",
    "        \n",
    "        self.model.fit(self.X_train, self.y_train, early_stopping_rounds=10, eval_metric=[\"error\", \"logloss\"], eval_set=eval_set, verbose=False)\n",
    "        \n",
    "        return self.model   \n",
    "        \n",
    "     \n",
    "    \n",
    "    def visualize(self, label):\n",
    "        # retrieve model performance metrics\n",
    "        results = self.model.evals_result()\n",
    "        \n",
    "        # Display Visualization of Model Performance\n",
    "        plt.figure(figsize=(7,7))\n",
    "        plt.plot(results[\"validation_0\"][label], label=\"Training loss\")\n",
    "        plt.plot(results[\"validation_1\"][label], label=\"Validation loss\")\n",
    "        plt.axvline(21, color=\"gray\", label=\"Optimal tree number\")\n",
    "        plt.xlabel(\"Number of trees\")\n",
    "        plt.ylabel(\"Loss\")\n",
    "        plt.legend()\n",
    "\n",
    "    \n",
    "    \n",
    "    def evaluate(self):\n",
    "        # Trained model prediction on Test Set\n",
    "        best_tree = self.model.best_ntree_limit\n",
    "        y_pred = self.model.predict(self.X_test, iteration_range=(0, best_tree))\n",
    "        \n",
    "        # Model Evaluation Metrics on Test Set\n",
    "        print()\n",
    "        print(\"|-----------------------------------------|\")\n",
    "        print('Accuracy Score: {:.2f}%'.format(metrics.accuracy_score(self.y_test, y_pred) * 100))  \n",
    "        print('')\n",
    "        print('Precision Score: {:.2f}%'.format(metrics.precision_score(self.y_test, y_pred, average='binary') * 100))  \n",
    "        print('')\n",
    "        print('Recall Score: {:.2f}%'.format(metrics.recall_score(self.y_test, y_pred, average='binary') * 100))\n",
    "        print('')\n",
    "        print('F1 Score: {:.2f}%'.format(metrics.f1_score(self.y_test, y_pred, average='binary') * 100)) \n",
    "        print(\"|-----------------------------------------|\")\n",
    "\n",
    "        \n",
    "        \n",
    "    def save_model_to_disk(self, path):\n",
    "        \"\"\"Save Trained Model to Disk\"\"\"\n",
    "        directory = \"artifacts/model\"\n",
    "        if not os.path.exists(directory):\n",
    "            os.makedirs(directory) \n",
    "        self.model.save_model(directory + path)\n",
    "    \n"
   ]
  },
  {
   "cell_type": "code",
   "execution_count": 3,
   "id": "094c53f9",
   "metadata": {},
   "outputs": [],
   "source": [
    "# create classifier object\n",
    "Classifier = PetFinderClassifier()"
   ]
  },
  {
   "cell_type": "code",
   "execution_count": 4,
   "id": "84115a13",
   "metadata": {},
   "outputs": [],
   "source": [
    "# Load data from google cloud\n",
    "path = \"gs://cloud-samples-data/ai-platform-unified/datasets/tabular/petfinder-tabular-classification.csv\"\n",
    "\n",
    "data, features, labels = Classifier.load_data(path)\n"
   ]
  },
  {
   "cell_type": "code",
   "execution_count": 5,
   "id": "fc6a0b1f",
   "metadata": {},
   "outputs": [
    {
     "name": "stdout",
     "output_type": "stream",
     "text": [
      "|-----------------------------------------|\n",
      "There are 0 numbers of null columns\n",
      "|-----------------------------------------|\n"
     ]
    }
   ],
   "source": [
    "# check for null\n",
    "Classifier.check_for_null()"
   ]
  },
  {
   "cell_type": "code",
   "execution_count": 6,
   "id": "daaa7fc9",
   "metadata": {},
   "outputs": [
    {
     "name": "stdout",
     "output_type": "stream",
     "text": [
      "\n",
      "|-----------------------------------------|\n",
      "Shape of Train Data: (6922, 13)\n",
      "Shape of Train Label: (6922,)\n",
      "\n",
      "Shape of Test Data: (2308, 13)\n",
      "Shape of Test Label: (2308,)\n",
      "\n",
      "Shape of Train Data: (2307, 13)\n",
      "Shape of Train Data: (2307,)\n",
      "|-----------------------------------------|\n"
     ]
    }
   ],
   "source": [
    "# split data into train, test, val\n",
    "X_train, y_train, X_valid, y_valid, X_test, y_test = Classifier.split_data()"
   ]
  },
  {
   "cell_type": "code",
   "execution_count": 7,
   "id": "88e69cb9",
   "metadata": {},
   "outputs": [],
   "source": [
    "# train model\n",
    "model = Classifier.train_model()"
   ]
  },
  {
   "cell_type": "code",
   "execution_count": 8,
   "id": "f12dbe9e",
   "metadata": {},
   "outputs": [
    {
     "data": {
      "image/png": "[encoded data removed]",
      "text/plain": [
       "<Figure size 504x504 with 1 Axes>"
      ]
     },
     "metadata": {
      "needs_background": "light"
     },
     "output_type": "display_data"
    }
   ],
   "source": [
    "# visualize model performance\n",
    "Classifier.visualize('logloss')"
   ]
  },
  {
   "cell_type": "code",
   "execution_count": 9,
   "id": "e8cfa41a",
   "metadata": {},
   "outputs": [
    {
     "data": {
      "image/png": "[encoded data removed]",
      "text/plain": [
       "<Figure size 504x504 with 1 Axes>"
      ]
     },
     "metadata": {
      "needs_background": "light"
     },
     "output_type": "display_data"
    }
   ],
   "source": [
    "Classifier.visualize('error')"
   ]
  },
  {
   "cell_type": "code",
   "execution_count": 10,
   "id": "50eae327",
   "metadata": {},
   "outputs": [
    {
     "name": "stdout",
     "output_type": "stream",
     "text": [
      "\n",
      "|-----------------------------------------|\n",
      "Accuracy Score: 75.22%\n",
      "\n",
      "Precision Score: 77.06%\n",
      "\n",
      "Recall Score: 93.52%\n",
      "\n",
      "F1 Score: 84.50%\n",
      "|-----------------------------------------|\n"
     ]
    }
   ],
   "source": [
    "# evaluate model\n",
    "Classifier.evaluate()"
   ]
  },
  {
   "cell_type": "code",
   "execution_count": 11,
   "id": "200fca83",
   "metadata": {},
   "outputs": [],
   "source": [
    "# Save Model to Disk\n",
    "Classifier.save_model_to_disk(\"/xgboost_classifier.json\")"
   ]
  },
  {
   "cell_type": "code",
   "execution_count": null,
   "id": "9563e12e",
   "metadata": {},
   "outputs": [],
   "source": []
  },
  {
   "cell_type": "code",
   "execution_count": null,
   "id": "44095c67",
   "metadata": {},
   "outputs": [],
   "source": []
  }
 ],
 "metadata": {
  "kernelspec": {
   "display_name": "Python 3 (ipykernel)",
   "language": "python",
   "name": "python3"
  },
  "language_info": {
   "codemirror_mode": {
    "name": "ipython",
    "version": 3
   },
   "file_extension": ".py",
   "mimetype": "text/x-python",
   "name": "python",
   "nbconvert_exporter": "python",
   "pygments_lexer": "ipython3",
   "version": "3.8.0"
  }
 },
 "nbformat": 4,
 "nbformat_minor": 5
}
